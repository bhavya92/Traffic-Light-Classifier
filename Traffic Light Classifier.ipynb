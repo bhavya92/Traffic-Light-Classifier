{
 "cells": [
  {
   "cell_type": "markdown",
   "metadata": {},
   "source": [
    "<h1>Importing all the nescesarry libraries</h1>"
   ]
  },
  {
   "cell_type": "code",
   "execution_count": 51,
   "metadata": {},
   "outputs": [],
   "source": [
    "import cv2  #OpenCV\n",
    "import numpy as np\n",
    "import matplotlib.pyplot as plt\n",
    "import matplotlib.image as mpimg\n",
    "import helpers\n",
    "import random\n",
    "\n",
    "%matplotlib inline"
   ]
  },
  {
   "cell_type": "code",
   "execution_count": 20,
   "metadata": {},
   "outputs": [],
   "source": [
    "#Importing Image Directories\n",
    "IMAGE_DIR_TRAIN = \"traffic_light_images/training\"\n",
    "IMAGE_DIR_TEST = \"traffic_light_images/test\""
   ]
  },
  {
   "cell_type": "markdown",
   "metadata": {},
   "source": [
    "<h1>Loadind the Image Dataset</h1>"
   ]
  },
  {
   "cell_type": "code",
   "execution_count": 21,
   "metadata": {},
   "outputs": [],
   "source": [
    "#load_dataset() used to load images data from training directory\n",
    "#load_dataset() is defined in helpers.py file\n",
    "Images_List = helpers.load_dataset(IMAGE_DIR_TRAIN)"
   ]
  },
  {
   "cell_type": "markdown",
   "metadata": {},
   "source": [
    "<h1>Standardizing the Dataset<h1>\n",
    "            <p style=\"font-size:16px\">Before classify an image as red,green or yellow traffic light we should standardize all images to be of same size(32x32 Pixel in this case). It's important to make images of same size so that they can sent through same classification pipeline</p>"
   ]
  },
  {
   "cell_type": "code",
   "execution_count": 22,
   "metadata": {},
   "outputs": [],
   "source": [
    "def standardize_image(image):\n",
    "    #Resizing the image with a width and hieghtof 32x32 Pixel\n",
    "    standard_im = cv2.resize(image,(32,32))\n",
    "    \n",
    "    return standard_im"
   ]
  },
  {
   "cell_type": "markdown",
   "metadata": {},
   "source": [
    "<h1>Implementing One-hot encoding<h1>\n",
    "<p style=\"font-size:16px\">One-hot encoding is used where there is more than two value to seperate.\n",
    "A one-hot label is a 1D list that's the length of the number of classes(Red/Green/Yellow in our case)\n",
    "The list will be all 0's and one 1; the 1 indicates which class a certain image is </p>\n",
    "<p>For eg. [1,0,0] - Red</p>"
   ]
  },
  {
   "cell_type": "code",
   "execution_count": 76,
   "metadata": {},
   "outputs": [],
   "source": [
    "def one_hot_encode(label):\n",
    "    one_hot_label = []\n",
    "    \n",
    "    if(label == 'red'):\n",
    "        one_hot_label.extend([1,0,0])\n",
    "    elif(label == 'yellow'):\n",
    "        one_hot_label.extend([0,1,0])\n",
    "    else:\n",
    "        one_hot_label.extend([0,0,1])\n",
    "    \n",
    "    return one_hot_label"
   ]
  },
  {
   "cell_type": "code",
   "execution_count": 77,
   "metadata": {},
   "outputs": [],
   "source": [
    "#Creating a Standard list of Images and One-Hot Encoded Label\n",
    "\n",
    "def standardize(image_list):\n",
    "    \n",
    "    standard_list = []\n",
    "    \n",
    "    for item in image_list:\n",
    "        image = item[0]\n",
    "        label = item[1]\n",
    "        \n",
    "        standardize_im = standardize_image(image)\n",
    "        \n",
    "        one_hot_label = one_hot_encode(label)\n",
    "        \n",
    "        standard_list.append((standardize_im , one_hot_label))\n",
    "    \n",
    "    return standard_list\n",
    "\n",
    "STANDARD_LIST = standardize(Images_List)"
   ]
  },
  {
   "cell_type": "code",
   "execution_count": 78,
   "metadata": {},
   "outputs": [
    {
     "data": {
      "text/plain": [
       "<matplotlib.image.AxesImage at 0x7f513f0175c0>"
      ]
     },
     "execution_count": 78,
     "metadata": {},
     "output_type": "execute_result"
    },
    {
     "data": {
      "image/png": "[encoded data removed]",
      "text/plain": [
       "<Figure size 1440x720 with 4 Axes>"
      ]
     },
     "metadata": {
      "needs_background": "light"
     },
     "output_type": "display_data"
    }
   ],
   "source": [
    "#SAMPLE HSV COLORSPACE FOR A SINGLE IMAGE\n",
    "\n",
    "image_num = 1\n",
    "test_im = STANDARD_LIST[image_num][0]\n",
    "test_label = STANDARD_LIST[image_num][1]\n",
    "\n",
    "hsv = cv2.cvtColor(test_im, cv2.COLOR_RGB2HSV)\n",
    "\n",
    "h = hsv[:,:,0]\n",
    "s = hsv[:,:,1]\n",
    "v = hsv[:,:,2]\n",
    "\n",
    "f, (ax1,ax2,ax3,ax4) = plt.subplots(1,4,figsize=(20,10))\n",
    "\n",
    "ax1.set_title(\"Original Image\")\n",
    "ax1.imshow(test_im)\n",
    "ax2.set_title(\"H\")\n",
    "ax2.imshow(h, cmap='gray')\n",
    "ax3.set_title(\"S\")\n",
    "ax3.imshow(s, cmap='gray')\n",
    "ax4.set_title(\"V\")\n",
    "ax4.imshow(v, cmap='gray')\n"
   ]
  },
  {
   "cell_type": "code",
   "execution_count": 79,
   "metadata": {},
   "outputs": [],
   "source": [
    "#Function to extract feature from the Image\n",
    "def create_feature(rgb_image):\n",
    "    \n",
    "    #Converting the RGB ColorSpace to HSV ColorSpace\n",
    "    hsv = cv2.cvtColor(rgb_image, cv2.COLOR_RGB2HSV)\n",
    "    \n",
    "     ## TODO: Create and return a feature value and/or vector\n",
    "    lower_red_1 = np.array([0, 100, 100])\n",
    "    upper_red_1 = np.array([15, 255, 255])\n",
    "    red_1 = cv2.inRange(hsv, lower_red_1, upper_red_1)\n",
    "    \n",
    "    lower_red_2 = np.array([160, 100, 100])\n",
    "    upper_red_2 = np.array([180, 255, 255])\n",
    "    red_2 = cv2.inRange(hsv, lower_red_2, upper_red_2)\n",
    "    \n",
    "    red = red_1 + red_2\n",
    "    \n",
    "    lower_yellow = np.array([15, 100, 100])\n",
    "    upper_yellow = np.array([80, 255, 255])\n",
    "    yellow = cv2.inRange(hsv, lower_yellow, upper_yellow)\n",
    "    \n",
    "    lower_green = np.array([50, 100, 100])\n",
    "    upper_green = np.array([100, 255, 255])\n",
    "    green = cv2.inRange(hsv, lower_green, upper_green)\n",
    "    \n",
    "    return red,yellow,green\n",
    "  "
   ]
  },
  {
   "cell_type": "code",
   "execution_count": 80,
   "metadata": {},
   "outputs": [],
   "source": [
    "def estimate_label(rgb_image):\n",
    "    \n",
    "    predicted_label = [0, 0, 0]\n",
    "    red, yellow, green = create_feature(rgb_image)\n",
    "    r = np.sum(red)\n",
    "    y = np.sum(yellow)\n",
    "    g = np.sum(green)\n",
    "    if r >= y and r >= g:\n",
    "        predicted_label = [1, 0, 0]\n",
    "    elif y > r and y >= g:\n",
    "        predicted_label = [0, 1, 0]\n",
    "    elif g > r and g > y:\n",
    "        predicted_label = [0, 0, 1]\n",
    "    return predicted_label     "
   ]
  },
  {
   "cell_type": "code",
   "execution_count": 81,
   "metadata": {},
   "outputs": [],
   "source": [
    "# Using the load_dataset function in helpers.py\n",
    "# Load test data\n",
    "TEST_IMAGE_LIST = helpers.load_dataset(IMAGE_DIR_TEST)\n",
    "\n",
    "# Standardize the test data\n",
    "STANDARDIZED_TEST_LIST = standardize(TEST_IMAGE_LIST)\n",
    "\n",
    "# Shuffle the standardized test data\n",
    "random.shuffle(STANDARDIZED_TEST_LIST)"
   ]
  },
  {
   "cell_type": "code",
   "execution_count": 82,
   "metadata": {},
   "outputs": [
    {
     "name": "stdout",
     "output_type": "stream",
     "text": [
      "Accuracy: 0.9158249158249159\n",
      "Number of misclassified images = 25 out of 297\n"
     ]
    }
   ],
   "source": [
    "# Constructs a list of misclassified images given a list of test images and their labels\n",
    "# This will throw an AssertionError if labels are not standardized (one-hot encoded)\n",
    "\n",
    "def get_misclassified_images(test_images):\n",
    "    # Track misclassified images by placing them into a list\n",
    "    misclassified_images_labels = []\n",
    "\n",
    "    # Iterate through all the test images\n",
    "    # Classify each image and compare to the true label\n",
    "    for image in test_images:\n",
    "\n",
    "        # Get true data\n",
    "        im = image[0]\n",
    "        true_label = image[1]\n",
    "        assert(len(true_label) == 3), \"The true_label is not the expected length (3).\"\n",
    "\n",
    "        # Get predicted label from your classifier\n",
    "        predicted_label = estimate_label(im)\n",
    "        assert(len(predicted_label) == 3), \"The predicted_label is not the expected length (3).\"\n",
    "\n",
    "        # Compare true and predicted labels \n",
    "        if(predicted_label != true_label):\n",
    "            # If these labels are not equal, the image has been misclassified\n",
    "            misclassified_images_labels.append((im, predicted_label, true_label))\n",
    "            \n",
    "    # Return the list of misclassified [image, predicted_label, true_label] values\n",
    "    return misclassified_images_labels\n",
    "\n",
    "\n",
    "# Find all misclassified images in a given test set\n",
    "MISCLASSIFIED = get_misclassified_images(STANDARDIZED_TEST_LIST)\n",
    "\n",
    "# Accuracy calculations\n",
    "total = len(STANDARDIZED_TEST_LIST)\n",
    "num_correct = total - len(MISCLASSIFIED)\n",
    "accuracy = num_correct/total\n",
    "\n",
    "print('Accuracy: ' + str(accuracy))\n",
    "print(\"Number of misclassified images = \" + str(len(MISCLASSIFIED)) +' out of '+ str(total))\n"
   ]
  }
 ],
 "metadata": {
  "kernelspec": {
   "display_name": "Python 3",
   "language": "python",
   "name": "python3"
  },
  "language_info": {
   "codemirror_mode": {
    "name": "ipython",
    "version": 3
   },
   "file_extension": ".py",
   "mimetype": "text/x-python",
   "name": "python",
   "nbconvert_exporter": "python",
   "pygments_lexer": "ipython3",
   "version": "3.7.3"
  }
 },
 "nbformat": 4,
 "nbformat_minor": 2
}
